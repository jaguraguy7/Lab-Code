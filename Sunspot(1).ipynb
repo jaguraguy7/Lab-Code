{
 "cells": [
  {
   "cell_type": "code",
   "execution_count": 1,
   "metadata": {},
   "outputs": [],
   "source": [
    "\n",
    "import numpy as np\n",
    "import matplotlib.pyplot as plt\n",
    "from matplotlib.patches import Circle\n",
    "from itertools import groupby, product\n",
    "\n",
    "\n",
    "\n",
    "def sunspot_loc(filename):\n",
    "    x_pos = []\n",
    "    y_pos = []\n",
    "    brightness = []\n",
    "    processed_data=[]\n",
    "\n",
    "    with open(filename) as f:\n",
    "        data = f.readlines()\n",
    "        for i in range(len(data)):\n",
    "            entry = data[i].split()\n",
    "            processed_data.append(entry)\n",
    "\n",
    "    x_pos = [float(p[0]) for p in processed_data]\n",
    "    y_pos = [float(p[1]) for p in processed_data]\n",
    "    brightness = [float(p[2]) for p in processed_data]    \n",
    "\n",
    "    x_good_pos = []\n",
    "    y_good_pos = []\n",
    "\n",
    "    x_good_pos2 = []\n",
    "    y_good_pos2 = []\n",
    "    circ = Circle((256, 256), radius = 218)\n",
    "\n",
    "\n",
    "    for i in range(len(brightness)) :\n",
    "            if brightness[i] == 0:\n",
    "                x_good_pos.append(x_pos[i])\n",
    "                y_good_pos.append(y_pos[i])\n",
    "\n",
    "\n",
    "    sunspot = list(zip(x_good_pos , y_good_pos))\n",
    "\n",
    "    for k in range(len(x_good_pos)):\n",
    "        if circ.contains_point(sunspot[k]) == True :\n",
    "                x_good_pos2.append(x_good_pos[k])\n",
    "                y_good_pos2.append(y_good_pos[k])\n",
    "                \n",
    "                \n",
    "         \n",
    "    sunspot2 = list(zip(x_good_pos2 , y_good_pos2))\n",
    "    sunspot2s = sorted(sunspot2 , key=lambda k: [k[1], k[0]])\n",
    "    #print (sunspot2s)\n",
    "    \n",
    "    def Manhattan(tup1, tup2):\n",
    "        return abs(tup1[0] - tup2[0]) + abs(tup1[1] - tup2[1])\n",
    "\n",
    "\n",
    "    # Group Adjacent Coordinates\n",
    "    # Using product() + groupby() + list comprehension\n",
    "    man_tups = [sorted(sub) for sub in product(sunspot2, repeat = 2)\n",
    "                                        if Manhattan(*sub) == 1]\n",
    "    \n",
    "    res_dict = {ele: {ele} for ele in sunspot2}\n",
    "    for tup1, tup2 in man_tups:\n",
    "        res_dict[tup1] |= res_dict[tup2]\n",
    "        res_dict[tup2] = res_dict[tup1]\n",
    "    \n",
    "    res = [[*next(val)] for key, val in groupby(\n",
    "            sorted(res_dict.values(), key = id), id)]\n",
    "    \n",
    "    # converting tuples to numpy arrays\n",
    "    res = [np.array(sub) for sub in res]\n",
    "    \n",
    "    # sorting numpy arrays lexicographically\n",
    "    res = sorted(res, key=lambda x: tuple(x[:,0]))\n",
    "    \n",
    "    # converting numpy arrays back to tuples\n",
    "    res = [tuple(map(tuple, sub)) for sub in res]\n",
    "    \n",
    "    # printing result\n",
    "    print(\"The Sunspot Coordinates are : \" + str(res))\n",
    "    \n",
    "    #This code is contributed by Jyothi pinjala. (https://www.geeksforgeeks.org/python-group-adjacent-coordinates/)\n",
    "        \n",
    "    \n",
    "    \n",
    "    plt.scatter(x_good_pos2 , y_good_pos2 , s=0.25)\n",
    "    plt.gca().invert_yaxis()\n",
    "    plt.grid()\n",
    "    plt.show()\n",
    "\n",
    "\n",
    "\n",
    "\n",
    "\n",
    "\n",
    "\n",
    "\n",
    "\n",
    "\n"
   ]
  },
  {
   "cell_type": "code",
   "execution_count": 2,
   "metadata": {},
   "outputs": [
    {
     "name": "stdout",
     "output_type": "stream",
     "text": [
      "The Sunspot Coordinates are : [((48.0, 301.0),), ((49.0, 228.0), (49.0, 229.0)), ((55.0, 292.0),), ((83.0, 376.0),), ((84.0, 378.0), (84.0, 377.0)), ((173.0, 161.0), (173.0, 162.0)), ((175.0, 160.0),), ((183.0, 166.0),), ((200.0, 162.0), (198.0, 161.0), (201.0, 161.0), (198.0, 163.0), (199.0, 161.0), (200.0, 161.0), (200.0, 163.0), (198.0, 162.0)), ((202.0, 160.0),), ((204.0, 162.0),), ((212.0, 159.0), (212.0, 158.0)), ((219.0, 156.0), (220.0, 155.0), (216.0, 157.0), (217.0, 156.0), (218.0, 157.0), (221.0, 156.0), (214.0, 156.0), (215.0, 155.0), (220.0, 157.0), (219.0, 155.0), (216.0, 156.0), (217.0, 155.0), (218.0, 156.0), (221.0, 155.0), (215.0, 157.0), (219.0, 157.0), (220.0, 156.0), (217.0, 157.0), (216.0, 155.0), (218.0, 155.0), (214.0, 157.0), (215.0, 156.0)), ((219.0, 156.0), (220.0, 155.0), (219.0, 159.0), (220.0, 158.0), (222.0, 158.0), (217.0, 159.0), (216.0, 157.0), (217.0, 156.0), (216.0, 160.0), (218.0, 157.0), (221.0, 156.0), (218.0, 160.0), (221.0, 159.0), (214.0, 156.0), (215.0, 155.0), (214.0, 159.0), (215.0, 158.0), (219.0, 158.0), (220.0, 157.0), (219.0, 155.0), (220.0, 160.0), (222.0, 157.0), (216.0, 156.0), (217.0, 155.0), (216.0, 159.0), (218.0, 156.0), (217.0, 158.0), (218.0, 159.0), (221.0, 155.0), (213.0, 157.0), (221.0, 158.0), (214.0, 158.0), (215.0, 157.0), (215.0, 160.0), (220.0, 159.0), (219.0, 157.0), (222.0, 156.0), (220.0, 156.0), (219.0, 160.0), (217.0, 157.0), (216.0, 155.0), (217.0, 160.0), (216.0, 158.0), (218.0, 155.0), (218.0, 158.0), (221.0, 157.0), (215.0, 159.0), (214.0, 157.0), (215.0, 156.0), (214.0, 160.0)), ((219.0, 156.0), (220.0, 155.0), (220.0, 158.0), (216.0, 157.0), (217.0, 156.0), (218.0, 157.0), (221.0, 156.0), (214.0, 156.0), (215.0, 155.0), (215.0, 158.0), (219.0, 158.0), (220.0, 157.0), (219.0, 155.0), (222.0, 157.0), (216.0, 156.0), (217.0, 155.0), (218.0, 156.0), (217.0, 158.0), (221.0, 155.0), (213.0, 157.0), (221.0, 158.0), (214.0, 158.0), (215.0, 157.0), (219.0, 157.0), (222.0, 156.0), (220.0, 156.0), (217.0, 157.0), (216.0, 155.0), (216.0, 158.0), (218.0, 155.0), (218.0, 158.0), (221.0, 157.0), (214.0, 157.0), (215.0, 156.0)), ((224.0, 167.0), (225.0, 167.0), (223.0, 167.0), (225.0, 168.0)), ((391.0, 136.0), (390.0, 137.0), (391.0, 137.0), (391.0, 138.0), (390.0, 136.0))]\n"
     ]
    },
    {
     "data": {
      "image/png": "[encoded data removed]",
      "text/plain": [
       "<Figure size 432x288 with 1 Axes>"
      ]
     },
     "metadata": {
      "needs_background": "light"
     },
     "output_type": "display_data"
    }
   ],
   "source": [
    "sunspot_loc('E:\\downloads\\Sunspot (1)\\sunspots 1 (1).txt')\n",
    "\n",
    "\n"
   ]
  },
  {
   "cell_type": "code",
   "execution_count": 3,
   "metadata": {},
   "outputs": [
    {
     "name": "stdout",
     "output_type": "stream",
     "text": [
      "The Sunspot Coordinates are : [((77.0, 287.0), (78.0, 287.0)), ((100.0, 374.0), (101.0, 374.0), (100.0, 375.0), (99.0, 373.0), (101.0, 375.0), (100.0, 373.0), (99.0, 374.0)), ((220.0, 160.0), (220.0, 161.0), (219.0, 160.0)), ((221.0, 159.0),), ((223.0, 160.0), (222.0, 160.0)), ((225.0, 162.0),), ((243.0, 163.0),), ((247.0, 161.0), (245.0, 162.0), (245.0, 161.0), (246.0, 162.0), (245.0, 160.0), (247.0, 162.0)), ((247.0, 161.0), (245.0, 162.0), (245.0, 161.0), (246.0, 162.0), (245.0, 160.0), (247.0, 162.0)), ((250.0, 160.0), (248.0, 160.0), (249.0, 160.0), (249.0, 161.0), (248.0, 159.0), (249.0, 159.0)), ((251.0, 161.0),), ((251.0, 159.0),), ((254.0, 162.0),), ((255.0, 163.0),), ((259.0, 158.0), (258.0, 158.0), (258.0, 159.0), (257.0, 157.0), (259.0, 159.0), (258.0, 157.0)), ((261.0, 159.0), (262.0, 158.0), (266.0, 158.0), (267.0, 157.0), (266.0, 155.0), (268.0, 158.0), (267.0, 160.0), (269.0, 157.0), (268.0, 155.0), (260.0, 157.0), (263.0, 156.0), (263.0, 159.0), (265.0, 156.0), (264.0, 160.0), (265.0, 159.0), (264.0, 157.0), (261.0, 158.0), (262.0, 157.0), (261.0, 155.0), (267.0, 156.0), (267.0, 159.0), (266.0, 157.0), (269.0, 156.0), (268.0, 160.0), (266.0, 160.0), (268.0, 157.0), (263.0, 155.0), (265.0, 158.0), (264.0, 156.0), (263.0, 158.0), (265.0, 155.0), (264.0, 159.0), (262.0, 156.0), (262.0, 159.0), (261.0, 157.0), (266.0, 156.0), (267.0, 155.0), (266.0, 159.0), (268.0, 156.0), (267.0, 158.0), (268.0, 159.0), (269.0, 158.0), (263.0, 157.0), (264.0, 158.0), (265.0, 157.0), (264.0, 155.0), (265.0, 160.0), (261.0, 156.0), (262.0, 155.0)), ((262.0, 158.0), (266.0, 158.0), (267.0, 157.0), (266.0, 155.0), (268.0, 158.0), (269.0, 157.0), (268.0, 155.0), (260.0, 157.0), (263.0, 156.0), (265.0, 156.0), (264.0, 157.0), (261.0, 158.0), (262.0, 157.0), (261.0, 155.0), (267.0, 156.0), (266.0, 157.0), (269.0, 156.0), (268.0, 157.0), (263.0, 155.0), (265.0, 158.0), (264.0, 156.0), (263.0, 158.0), (265.0, 155.0), (262.0, 156.0), (261.0, 157.0), (266.0, 156.0), (267.0, 155.0), (268.0, 156.0), (267.0, 158.0), (263.0, 157.0), (264.0, 158.0), (265.0, 157.0), (264.0, 155.0), (261.0, 156.0), (262.0, 155.0)), ((267.0, 163.0),), ((273.0, 165.0), (273.0, 166.0)), ((275.0, 164.0),), ((276.0, 165.0),), ((277.0, 164.0),), ((419.0, 140.0), (419.0, 141.0), (419.0, 142.0), (420.0, 142.0)), ((435.0, 132.0),)]\n"
     ]
    },
    {
     "data": {
      "image/png": "[encoded data removed]",
      "text/plain": [
       "<Figure size 432x288 with 1 Axes>"
      ]
     },
     "metadata": {
      "needs_background": "light"
     },
     "output_type": "display_data"
    }
   ],
   "source": [
    "sunspot_loc('E:\\downloads\\Sunspot (1)\\sunspots 2 (1).txt')\n",
    "\n"
   ]
  },
  {
   "cell_type": "code",
   "execution_count": 4,
   "metadata": {},
   "outputs": [
    {
     "name": "stdout",
     "output_type": "stream",
     "text": [
      "The Sunspot Coordinates are : [((49.0, 188.0),), ((108.0, 217.0), (108.0, 218.0)), ((109.0, 161.0),), ((110.0, 283.0),), ((111.0, 284.0),), ((123.0, 371.0), (122.0, 370.0), (124.0, 371.0), (123.0, 370.0), (122.0, 371.0)), ((267.0, 160.0), (268.0, 160.0)), ((296.0, 158.0), (295.0, 161.0), (293.0, 162.0), (297.0, 158.0), (296.0, 161.0), (294.0, 162.0), (297.0, 161.0), (298.0, 161.0), (295.0, 159.0), (294.0, 163.0), (296.0, 159.0), (295.0, 162.0), (297.0, 159.0), (298.0, 162.0), (293.0, 161.0), (294.0, 161.0), (296.0, 157.0), (295.0, 160.0), (298.0, 163.0)), ((296.0, 158.0), (295.0, 161.0), (297.0, 158.0), (293.0, 162.0), (294.0, 162.0), (295.0, 159.0), (296.0, 159.0), (297.0, 159.0), (293.0, 161.0), (294.0, 161.0), (296.0, 157.0), (295.0, 160.0)), ((296.0, 158.0), (297.0, 158.0), (296.0, 157.0), (295.0, 160.0), (295.0, 159.0), (296.0, 159.0), (297.0, 159.0)), ((302.0, 157.0),), ((303.0, 158.0), (304.0, 158.0)), ((305.0, 163.0),), ((308.0, 158.0), (310.0, 158.0), (310.0, 155.0), (313.0, 157.0), (315.0, 160.0), (313.0, 160.0), (307.0, 156.0), (315.0, 157.0), (309.0, 156.0), (312.0, 158.0), (311.0, 156.0), (309.0, 159.0), (314.0, 158.0), (311.0, 159.0), (316.0, 158.0), (308.0, 157.0), (310.0, 160.0), (310.0, 157.0), (313.0, 156.0), (311.0, 157.0), (313.0, 159.0), (315.0, 156.0), (307.0, 158.0), (315.0, 159.0), (309.0, 158.0), (311.0, 155.0), (309.0, 155.0), (311.0, 158.0), (312.0, 157.0), (314.0, 160.0), (312.0, 160.0), (314.0, 157.0), (316.0, 160.0), (308.0, 156.0), (308.0, 159.0), (310.0, 156.0), (310.0, 159.0), (313.0, 158.0), (315.0, 158.0), (307.0, 157.0), (309.0, 160.0), (309.0, 157.0), (312.0, 156.0), (311.0, 160.0), (312.0, 159.0), (314.0, 156.0), (314.0, 159.0)), ((311.0, 155.0), (309.0, 155.0), (310.0, 155.0), (307.0, 156.0), (308.0, 156.0), (309.0, 156.0), (310.0, 156.0), (311.0, 156.0), (307.0, 157.0), (308.0, 157.0), (309.0, 157.0), (310.0, 157.0)), ((320.0, 162.0),), ((321.0, 163.0), (322.0, 162.0), (322.0, 163.0)), ((321.0, 163.0), (322.0, 162.0), (322.0, 163.0)), ((324.0, 163.0), (325.0, 162.0), (325.0, 163.0), (326.0, 162.0), (324.0, 164.0), (324.0, 162.0)), ((325.0, 165.0),), ((326.0, 164.0),), ((327.0, 163.0),), ((439.0, 145.0),), ((440.0, 147.0), (440.0, 148.0), (440.0, 146.0))]\n"
     ]
    },
    {
     "data": {
      "image/png": "[encoded data removed]",
      "text/plain": [
       "<Figure size 432x288 with 1 Axes>"
      ]
     },
     "metadata": {
      "needs_background": "light"
     },
     "output_type": "display_data"
    }
   ],
   "source": [
    "sunspot_loc('E:\\downloads\\Sunspot (1)\\sunspots 3 (1).txt')\n"
   ]
  },
  {
   "cell_type": "code",
   "execution_count": 5,
   "metadata": {},
   "outputs": [
    {
     "name": "stdout",
     "output_type": "stream",
     "text": [
      "The Sunspot Coordinates are : [((60.0, 181.0), (60.0, 182.0)), ((67.0, 175.0),), ((136.0, 156.0),), ((150.0, 279.0),), ((150.0, 367.0), (151.0, 367.0), (152.0, 367.0)), ((154.0, 159.0),), ((314.0, 161.0), (315.0, 161.0)), ((339.0, 162.0), (340.0, 161.0), (340.0, 162.0)), ((339.0, 162.0), (340.0, 161.0), (340.0, 164.0), (343.0, 163.0), (341.0, 164.0), (342.0, 164.0), (340.0, 165.0), (341.0, 165.0), (340.0, 162.0), (343.0, 164.0), (340.0, 163.0), (342.0, 163.0)), ((339.0, 162.0), (340.0, 161.0), (340.0, 164.0), (343.0, 163.0), (341.0, 164.0), (342.0, 164.0), (340.0, 165.0), (341.0, 165.0), (340.0, 162.0), (343.0, 164.0), (340.0, 163.0), (342.0, 163.0)), ((341.0, 160.0),), ((342.0, 159.0), (343.0, 159.0), (343.0, 158.0)), ((342.0, 159.0), (343.0, 159.0), (343.0, 158.0), (343.0, 160.0)), ((345.0, 159.0),), ((347.0, 160.0),), ((352.0, 163.0),), ((355.0, 160.0), (354.0, 158.0), (357.0, 160.0), (356.0, 158.0), (351.0, 159.0), (353.0, 159.0), (358.0, 158.0), (352.0, 160.0), (354.0, 160.0), (355.0, 159.0), (356.0, 160.0), (357.0, 159.0), (353.0, 158.0), (352.0, 159.0), (355.0, 158.0), (354.0, 159.0), (357.0, 158.0), (356.0, 159.0), (351.0, 160.0), (353.0, 160.0), (358.0, 159.0)), ((360.0, 162.0), (355.0, 160.0), (354.0, 158.0), (357.0, 160.0), (356.0, 158.0), (354.0, 161.0), (356.0, 161.0), (351.0, 159.0), (353.0, 159.0), (359.0, 160.0), (358.0, 158.0), (358.0, 161.0), (352.0, 160.0), (360.0, 161.0), (354.0, 160.0), (355.0, 159.0), (357.0, 162.0), (356.0, 160.0), (355.0, 162.0), (357.0, 159.0), (353.0, 158.0), (358.0, 160.0), (359.0, 159.0), (359.0, 162.0), (352.0, 159.0), (355.0, 158.0), (355.0, 161.0), (354.0, 159.0), (357.0, 158.0), (356.0, 162.0), (357.0, 161.0), (356.0, 159.0), (351.0, 160.0), (353.0, 160.0), (358.0, 162.0), (359.0, 161.0), (358.0, 159.0)), ((368.0, 164.0),), ((369.0, 163.0), (370.0, 163.0), (370.0, 162.0)), ((370.0, 164.0), (372.0, 164.0), (369.0, 163.0), (371.0, 164.0), (370.0, 163.0), (372.0, 163.0), (371.0, 163.0), (370.0, 162.0))]\n"
     ]
    },
    {
     "data": {
      "image/png": "[encoded data removed]",
      "text/plain": [
       "<Figure size 432x288 with 1 Axes>"
      ]
     },
     "metadata": {
      "needs_background": "light"
     },
     "output_type": "display_data"
    }
   ],
   "source": [
    "sunspot_loc('E:\\downloads\\Sunspot (1)\\sunspots 4 (1).txt')\n",
    "\n"
   ]
  },
  {
   "cell_type": "code",
   "execution_count": 6,
   "metadata": {},
   "outputs": [
    {
     "name": "stdout",
     "output_type": "stream",
     "text": [
      "The Sunspot Coordinates are : [((94.0, 167.0),), ((95.0, 169.0),), ((138.0, 439.0),), ((186.0, 365.0), (185.0, 364.0), (185.0, 365.0), (186.0, 364.0)), ((197.0, 278.0),), ((198.0, 210.0),), ((200.0, 154.0),), ((203.0, 155.0),), ((359.0, 164.0),), ((364.0, 166.0),), ((383.0, 167.0), (382.0, 165.0), (382.0, 168.0), (382.0, 167.0), (383.0, 166.0), (384.0, 166.0), (383.0, 165.0), (381.0, 166.0), (384.0, 165.0), (383.0, 168.0), (382.0, 166.0)), ((383.0, 167.0), (382.0, 165.0), (382.0, 167.0), (383.0, 166.0), (384.0, 166.0), (383.0, 165.0), (381.0, 166.0), (384.0, 165.0), (382.0, 166.0)), ((384.0, 162.0),), ((385.0, 161.0),), ((386.0, 162.0),), ((386.0, 164.0), (386.0, 165.0), (385.0, 164.0)), ((392.0, 162.0), (393.0, 161.0), (394.0, 162.0), (393.0, 164.0), (395.0, 161.0), (396.0, 164.0), (397.0, 163.0), (396.0, 161.0), (395.0, 164.0), (398.0, 164.0), (394.0, 165.0), (390.0, 163.0), (393.0, 162.0), (391.0, 163.0), (393.0, 165.0), (395.0, 162.0), (392.0, 163.0), (396.0, 162.0), (395.0, 165.0), (394.0, 163.0), (398.0, 163.0), (396.0, 165.0), (397.0, 164.0), (398.0, 165.0), (392.0, 164.0), (393.0, 163.0), (392.0, 161.0), (394.0, 164.0), (395.0, 163.0), (394.0, 161.0), (397.0, 165.0), (396.0, 163.0), (397.0, 162.0), (396.0, 166.0), (390.0, 162.0), (391.0, 162.0)), ((392.0, 162.0), (393.0, 161.0), (394.0, 162.0), (395.0, 161.0), (396.0, 161.0), (390.0, 163.0), (393.0, 162.0), (391.0, 163.0), (395.0, 162.0), (392.0, 163.0), (396.0, 162.0), (394.0, 163.0), (393.0, 163.0), (392.0, 161.0), (395.0, 163.0), (394.0, 161.0), (390.0, 162.0), (391.0, 162.0)), ((407.0, 165.0), (409.0, 166.0), (409.0, 167.0), (407.0, 166.0), (409.0, 168.0), (408.0, 166.0), (408.0, 167.0))]\n"
     ]
    },
    {
     "data": {
      "image/png": "[encoded data removed]",
      "text/plain": [
       "<Figure size 432x288 with 1 Axes>"
      ]
     },
     "metadata": {
      "needs_background": "light"
     },
     "output_type": "display_data"
    }
   ],
   "source": [
    "sunspot_loc('E:\\downloads\\Sunspot (1)\\sunspots 5 (1).txt')\n",
    "\n"
   ]
  },
  {
   "cell_type": "code",
   "execution_count": 7,
   "metadata": {},
   "outputs": [
    {
     "name": "stdout",
     "output_type": "stream",
     "text": [
      "The Sunspot Coordinates are : [((130.0, 162.0),), ((131.0, 161.0),), ((159.0, 451.0),), ((208.0, 468.0),), ((221.0, 363.0), (222.0, 363.0), (223.0, 363.0), (222.0, 362.0), (223.0, 362.0)), ((221.0, 363.0), (222.0, 363.0), (223.0, 363.0), (222.0, 362.0), (223.0, 362.0)), ((224.0, 154.0), (225.0, 154.0), (226.0, 154.0), (226.0, 153.0), (227.0, 153.0)), ((224.0, 154.0), (225.0, 154.0), (226.0, 154.0), (226.0, 153.0), (227.0, 153.0)), ((246.0, 155.0), (247.0, 155.0)), ((250.0, 153.0), (250.0, 154.0), (251.0, 153.0), (253.0, 155.0), (251.0, 154.0), (252.0, 154.0), (253.0, 154.0)), ((251.0, 209.0),), ((418.0, 171.0), (419.0, 171.0), (417.0, 170.0), (418.0, 170.0), (419.0, 170.0), (417.0, 169.0), (418.0, 169.0), (417.0, 172.0), (418.0, 172.0), (417.0, 171.0)), ((419.0, 166.0), (419.0, 167.0)), ((420.0, 172.0),), ((421.0, 168.0),), ((421.0, 173.0),), ((424.0, 165.0), (425.0, 166.0), (423.0, 166.0), (426.0, 165.0), (427.0, 166.0), (426.0, 168.0), (422.0, 167.0), (424.0, 167.0), (426.0, 167.0), (425.0, 165.0), (428.0, 167.0), (427.0, 165.0), (425.0, 168.0), (427.0, 168.0), (424.0, 166.0), (423.0, 167.0), (425.0, 167.0), (426.0, 166.0), (427.0, 167.0), (428.0, 166.0)), ((424.0, 165.0), (425.0, 166.0), (423.0, 166.0), (426.0, 165.0), (427.0, 166.0), (426.0, 168.0), (427.0, 169.0), (428.0, 168.0), (422.0, 167.0), (424.0, 167.0), (426.0, 167.0), (425.0, 165.0), (428.0, 167.0), (427.0, 165.0), (425.0, 168.0), (427.0, 168.0), (424.0, 166.0), (423.0, 167.0), (426.0, 169.0), (425.0, 167.0), (426.0, 166.0), (428.0, 169.0), (427.0, 167.0), (428.0, 166.0)), ((424.0, 165.0), (426.0, 167.0), (425.0, 165.0), (427.0, 165.0), (425.0, 166.0), (423.0, 166.0), (426.0, 165.0), (424.0, 166.0), (427.0, 166.0), (423.0, 167.0), (424.0, 167.0), (425.0, 167.0), (426.0, 166.0)), ((426.0, 172.0),), ((437.0, 172.0), (436.0, 170.0), (437.0, 173.0), (436.0, 171.0), (438.0, 172.0), (437.0, 171.0))]\n"
     ]
    },
    {
     "data": {
      "image/png": "[encoded data removed]",
      "text/plain": [
       "<Figure size 432x288 with 1 Axes>"
      ]
     },
     "metadata": {
      "needs_background": "light"
     },
     "output_type": "display_data"
    }
   ],
   "source": [
    "sunspot_loc('E:\\downloads\\Sunspot (1)\\sunspots 6 (1).txt')\n",
    "\n"
   ]
  },
  {
   "cell_type": "code",
   "execution_count": 8,
   "metadata": {},
   "outputs": [
    {
     "name": "stdout",
     "output_type": "stream",
     "text": [
      "The Sunspot Coordinates are : [((141.0, 167.0),), ((149.0, 159.0),), ((238.0, 363.0), (239.0, 362.0), (239.0, 363.0), (238.0, 362.0)), ((245.0, 153.0), (245.0, 154.0), (246.0, 153.0), (244.0, 153.0)), ((272.0, 154.0), (274.0, 154.0), (271.0, 155.0), (273.0, 155.0), (271.0, 154.0), (272.0, 153.0), (273.0, 154.0), (272.0, 155.0), (271.0, 153.0)), ((429.0, 167.0),), ((429.0, 171.0), (432.0, 172.0), (431.0, 171.0), (430.0, 173.0), (432.0, 171.0), (430.0, 172.0), (431.0, 173.0), (429.0, 173.0), (429.0, 172.0), (430.0, 171.0)), ((431.0, 169.0),), ((432.0, 174.0),), ((432.0, 165.0),), ((434.0, 172.0),), ((434.0, 168.0), (435.0, 168.0), (436.0, 168.0), (434.0, 167.0), (435.0, 167.0), (436.0, 167.0), (437.0, 167.0), (434.0, 166.0), (437.0, 166.0)), ((435.0, 171.0), (434.0, 168.0), (435.0, 168.0), (438.0, 167.0), (436.0, 168.0), (437.0, 171.0), (438.0, 170.0), (437.0, 168.0), (439.0, 170.0), (434.0, 169.0), (435.0, 169.0), (434.0, 166.0), (437.0, 166.0), (436.0, 169.0), (438.0, 171.0), (437.0, 169.0), (438.0, 168.0), (439.0, 171.0), (439.0, 168.0), (434.0, 167.0), (435.0, 167.0), (434.0, 170.0), (436.0, 167.0), (435.0, 170.0), (438.0, 169.0), (437.0, 167.0), (436.0, 170.0), (439.0, 169.0), (437.0, 170.0)), ((437.0, 173.0),), ((438.0, 176.0),), ((438.0, 174.0), (439.0, 174.0)), ((439.0, 166.0),), ((443.0, 169.0),), ((445.0, 172.0),), ((446.0, 174.0), (446.0, 175.0), (447.0, 175.0), (446.0, 173.0))]\n"
     ]
    },
    {
     "data": {
      "image/png": "[encoded data removed]",
      "text/plain": [
       "<Figure size 432x288 with 1 Axes>"
      ]
     },
     "metadata": {
      "needs_background": "light"
     },
     "output_type": "display_data"
    }
   ],
   "source": [
    "sunspot_loc('E:\\downloads\\Sunspot (1)\\sunspots 7 (1).txt')\n",
    "\n"
   ]
  },
  {
   "cell_type": "code",
   "execution_count": 9,
   "metadata": {},
   "outputs": [
    {
     "name": "stdout",
     "output_type": "stream",
     "text": [
      "131.27365797044422\n"
     ]
    },
    {
     "data": {
      "text/plain": [
       "(-20.551999164926546, 161.28993307366488)"
      ]
     },
     "execution_count": 9,
     "metadata": {},
     "output_type": "execute_result"
    }
   ],
   "source": [
    "pi = np.pi\n",
    "\n",
    "\n",
    "def long_lat(x ,y ,Q1 , Q2 , R ,P , B0 ,L0):\n",
    "    \n",
    "    P = P*(pi/180)\n",
    "    B0 = B0*(pi/180)\n",
    "    L0 = L0*(pi/180)\n",
    "    a = 0.53*(pi/180)\n",
    "    \n",
    "    r = ((256-x)**2+(256-y)**2)**(0.5)\n",
    "\n",
    "    theta = np.arctan((256-x)/(256-y)) + Q1\n",
    "\n",
    "    rho = np.arcsin(r / R) - (a * (r / (2*(R))))\n",
    "\n",
    "    \n",
    "    delta = (P - theta) + Q2\n",
    "    print (delta*(180/pi))\n",
    "    \n",
    "    B = np.arcsin(np.sin(B0)*np.cos(rho) + np.cos(B0)*np.sin(rho)*np.cos(delta))\n",
    "    L = np.arcsin((np.sin(rho)*np.sin(delta))/(np.cos(B))) + L0\n",
    "    \n",
    "    B = B * (180/pi)\n",
    "    L = L * (180/pi)\n",
    "    \n",
    "    return B , L\n",
    "\n",
    "long_lat(229 , 234 , pi , 2*pi , 75 , 2.1 , -3 , 139.5)\n"
   ]
  },
  {
   "cell_type": "code",
   "execution_count": 24,
   "metadata": {},
   "outputs": [
    {
     "name": "stdout",
     "output_type": "stream",
     "text": [
      "131.27365797044422\n"
     ]
    },
    {
     "data": {
      "text/plain": [
       "(-20.551999164926546, 161.28993307366488, 0.4807813517252906)"
      ]
     },
     "execution_count": 24,
     "metadata": {},
     "output_type": "execute_result"
    }
   ],
   "source": [
    "pi = np.pi\n",
    "\n",
    "\n",
    "def long_lat(x, y, R, P, B0, L0):\n",
    "    \n",
    "    P = P*(pi/180)\n",
    "    B0 = B0*(pi/180)\n",
    "    L0 = L0*(pi/180)\n",
    "    a = 0.53*(pi/180)\n",
    "    Q1 = pi\n",
    "    Q2 = 2*pi\n",
    "    \n",
    "    r = ((256-x)**2+(256-y)**2)**(0.5)\n",
    "\n",
    "    if x >> 256 and y >> 256:\n",
    "        Q = 0\n",
    "        \n",
    "    if  y << 256:\n",
    "        Q = Q1\n",
    "        \n",
    "    if x << 256 and y >> 256:\n",
    "        Q = Q2    \n",
    "    \n",
    "    theta = np.arctan((256-x)/(256-y)) + Q\n",
    "\n",
    "    rho = np.arcsin(r / R) - (a * (r / (2*(R))))\n",
    "   \n",
    "\n",
    "    \n",
    "    delta = (P - theta) + Q2\n",
    "    print (delta*(180/pi))\n",
    "    \n",
    "    B = np.arcsin(np.sin(B0)*np.cos(rho) + np.cos(B0)*np.sin(rho)*np.cos(delta))\n",
    "    L = np.arcsin((np.sin(rho)*np.sin(delta))/(np.cos(B))) + L0\n",
    "    \n",
    "    B = B * (180/pi)\n",
    "    L = L * (180/pi)\n",
    "  \n",
    "    \n",
    "    return B , L , rho\n",
    "\n",
    "long_lat(229 , 234 , 75 , 2.1 , -3 , 139.5)"
   ]
  }
 ],
 "metadata": {
  "kernelspec": {
   "display_name": "base",
   "language": "python",
   "name": "python3"
  },
  "language_info": {
   "codemirror_mode": {
    "name": "ipython",
    "version": 3
   },
   "file_extension": ".py",
   "mimetype": "text/x-python",
   "name": "python",
   "nbconvert_exporter": "python",
   "pygments_lexer": "ipython3",
   "version": "3.9.12"
  }
 },
 "nbformat": 4,
 "nbformat_minor": 2
}
